{
 "cells": [
  {
   "cell_type": "markdown",
   "metadata": {},
   "source": [
    "# Booking Hotels Scrapper"
   ]
  },
  {
   "cell_type": "markdown",
   "metadata": {},
   "source": [
    "GROUP 8:  Viktoriia Yuzkiv, Sebastien Boxho, Arianna Michelangelo\n",
    "\n",
    "This notebook includes the pipeline to scrape Booking.com listings data and saves the data into a csv file.\n"
   ]
  },
  {
   "cell_type": "markdown",
   "metadata": {},
   "source": [
    "**1. Identify a (future) event that makes a lot of people come to Barcelona.**"
   ]
  },
  {
   "cell_type": "markdown",
   "metadata": {},
   "source": [
    "After careful consideration we decided on **The Mobile World Congress (MWC)  26 - 29 February 2024**\n",
    "\n",
    "The Mobile World Congress (MWC) is one of the most significant events in the mobile technology industry, attracting professionals from across the globe to showcase and discuss the latest innovations in mobile and wireless technology. Held annually in Barcelona, it's organized by the GSMA (Global System for Mobile Communications Association), which represents the interests of mobile operators worldwide. We decided to work with this event for the following reasons: \n",
    "\n",
    "- Large-scale Attendance: MWC attracts over 100,000 attendees from around the world, significantly increasing demand for accommodation. This surge can lead to short-term price increases, making it a significant factor for a DiD analysis.\n",
    "- Treatment vs. Control Groups: Barcelona, as the host city, can serve as the treatment group, while other cities we chose do not host similar events during the same time frame can serve as control groups. This setup allows for assessing the causal impact of MWC on hotel prices by comparing changes in prices between the two groups.\n",
    "- International Exposure: The global nature of MWC means that the demand increase is not only local but also international, potentially affecting a broader range of accommodations (hotels, apartments, etc.) and thus providing a comprehensive view of its impact on prices."
   ]
  },
  {
   "cell_type": "markdown",
   "metadata": {},
   "source": [
    "**2. Think of the time periods to scrape and what second city to scrape for these same\n",
    "timer periods.**"
   ]
  },
  {
   "cell_type": "markdown",
   "metadata": {},
   "source": [
    "Dates:\n",
    "- MWC Barcelona: 26 - 29 February 2024 (selected period: 23 Feb - 3 Mar)\n",
    "- The control period: March 8 - 17th\n",
    "\n",
    "We opted to conduct our data scraping from February 23rd to March 3rd to include the weekends, anticipating that attendees of the conference might extend their stay in the city during these days. For the control period, we selected March, considering it a low season comparable to February. This choice is based on the similarity in weather conditions—both months are cold, outside the beach season, and typically experience a decrease in tourist activity, making March an appropriate counterpart for analyzing the impact of the conference.\n",
    "\n",
    "Control cities:\n",
    "- Marseille\n",
    "- Valencia\n",
    "- Porto\n",
    "\n",
    "These cities were chosen based on their resemblance to Barcelona in several key aspects. Firstly, they share similar climatic conditions, ensuring that weather patterns do not unduly influence our comparisons. Secondly, they boast attractions of architectural significance and are well-known as beach destinations, mirroring Barcelona's dual appeal in these areas. Additionally, the economies of France and Portugal are comparable to that of Spain in terms of tourism, given their positions within similar economic contexts in Europe. Importantly, during the period of our study, none of these cities hosted events that could significantly disrupt hotel pricing, ensuring a stable baseline for comparison. This careful selection criteria aim to provide a robust and reliable control group, reflecting the influence of the Mobile World Congress on Barcelona's accommodation sector without confounding factors. \n",
    "\n"
   ]
  },
  {
   "cell_type": "markdown",
   "metadata": {},
   "source": [
    "**3. Design a careful scraping pipeline that follows the advises seen in class and TAs.**"
   ]
  },
  {
   "cell_type": "markdown",
   "metadata": {},
   "source": [
    "### Paths"
   ]
  },
  {
   "cell_type": "code",
   "execution_count": 1,
   "metadata": {},
   "outputs": [],
   "source": [
    "# This cell is for the path configuration (relative to the notebook)\n",
    "\n",
    "# Path to your geckodriver file - please change to your path before running the code\n",
    "geko_path = 'C:/Users/School/Downloads/geckodriver-v0.34.0-win64/geckodriver.exe' \n",
    "\n",
    "# Please change to your profile path (if you have one Firefox profile)\n",
    "profile_path = '/Users/viktoriia/Library/Application Support/Firefox/Profiles/k7kr4dw0.Viktoriia' \n",
    "\n",
    "# Booking link\n",
    "link = 'https://www.booking.com/index.en-gb.html'"
   ]
  },
  {
   "cell_type": "markdown",
   "metadata": {},
   "source": [
    "### Import libraries"
   ]
  },
  {
   "cell_type": "code",
   "execution_count": 2,
   "metadata": {},
   "outputs": [],
   "source": [
    "from selenium import webdriver\n",
    "from selenium.webdriver.firefox.service import Service\n",
    "from selenium.webdriver.firefox.options import Options\n",
    "from selenium.common.exceptions import NoSuchElementException\n",
    "\n",
    "import os\n",
    "import re\n",
    "import time\n",
    "import requests\n",
    "import numpy as np\n",
    "import pandas as pd\n",
    "import seaborn as sns\n",
    "from tqdm import tqdm\n",
    "import concurrent.futures\n",
    "import statsmodels.api as sm\n",
    "import statsmodels.api as smf\n",
    "from bs4 import BeautifulSoup\n",
    "import matplotlib.pyplot as plt\n",
    "from datetime import datetime, timedelta\n",
    "from concurrent.futures import ThreadPoolExecutor\n",
    "\n",
    "import src.booking_scrapper as bs\n",
    "import src.description_analysis as da"
   ]
  },
  {
   "cell_type": "markdown",
   "metadata": {},
   "source": [
    "## Part 1: Hotel Scrapper"
   ]
  },
  {
   "cell_type": "markdown",
   "metadata": {},
   "source": [
    "This section of the notebook uses the booking_scrapper.py file to scrap the intended data from Booking.com in the given city and time period.\n",
    "\n",
    "The next cell contains the parameters used to scrapp the data, the parameters used for both datasets generated were:\n",
    "- cities = ['Barcelona','Marseille','Valencia','Porto']\n",
    "- Dataset 1: start_date = '2024-02-23' end_date = '2024-03-03'\n",
    "- Dataset 2: start_date = '2024-03-08' end_date = '2024-03-17'\n",
    "- interval = 1\n",
    "- p_limit = 40\n",
    "You can adjust the parameters as you may like to scrape, caution that the running time is hughly affected by the interval value and p_limit."
   ]
  },
  {
   "cell_type": "code",
   "execution_count": 3,
   "metadata": {},
   "outputs": [],
   "source": [
    "# Select Cities: List of cities to search examples: ['Barcelona','Marseille','Valencia','Porto']\n",
    "cities = ['Barcelona','Marseille']\n",
    "\n",
    "# Select start and end dates: Format YYYY-MM-DD\n",
    "start_date = '2024-03-08'\n",
    "end_date = '2024-03-10'\n",
    "\n",
    "# Select interval: Number of days for each interval. If None, get prices for the entire range.\n",
    "interval = 1\n",
    "\n",
    "# Select page limit: Number of pages to scrape for each city. If None, scrape all pages.\n",
    "p_limit = 4"
   ]
  },
  {
   "cell_type": "markdown",
   "metadata": {},
   "source": [
    "Primary data scraping pipeline; if the 'cities' variable comprises multiple values, the pipeline concurrently executes scraping operations for each city, optimizing the overall speed of the process."
   ]
  },
  {
   "cell_type": "code",
   "execution_count": 4,
   "metadata": {},
   "outputs": [],
   "source": [
    "def scrape_city(city, start_date, end_date, interval, page_limit):\n",
    "    \"\"\"\n",
    "    Scrapes hotel data for a specific city and date range.\n",
    "\n",
    "    Parameters:\n",
    "    - city: City to scrape data for.\n",
    "    - start_date: Start date in the format 'YYYY-MM-DD'.\n",
    "    - end_date: End date in the format 'YYYY-MM-DD'.\n",
    "    - interval: Number of days for each interval. If None, get prices for the entire range.\n",
    "    - page_limit: Maximum number of pages to scrape.\n",
    "\n",
    "    Returns:\n",
    "    - DataFrame containing scraped data with columns: 'City', 'Start_Date', 'End_Date', 'Hotel_Name', 'Price', 'Hotel_Description_Short', 'Rating', 'url'.\n",
    "    \"\"\"\n",
    "    scrapper = bs.Booking_Scrapper()\n",
    "    result_df = pd.DataFrame(columns=['City', 'Start_Date', 'End_Date', 'Hotel_Name', 'Price', 'Hotel_Description_Short', 'Rating', 'url'])\n",
    "    browser = scrapper.start_up(link, geko_path)\n",
    "\n",
    "    s_d = datetime.strptime(start_date, '%Y-%m-%d')\n",
    "    e_d = datetime.strptime(end_date, '%Y-%m-%d')\n",
    "\n",
    "    if city == cities[0]:\n",
    "        scrapper.check_and_click(browser, '.f4552b6561', 'css')\n",
    "        scrapper.check_and_click(browser, '/html/body/div/div[1]/div/div[1]/div[2]/svg', 'xpath')\n",
    "\n",
    "    scrapper.select_place(browser, city)\n",
    "\n",
    "    c_d = s_d\n",
    "\n",
    "    while c_d < e_d:\n",
    "        time.sleep(1)\n",
    "        i_e_d = min(c_d + timedelta(days=interval), e_d) if interval is not None else e_d\n",
    "        interval_end_date = i_e_d.strftime('%Y-%m-%d')\n",
    "        current_date = c_d.strftime('%Y-%m-%d')\n",
    "        print(\"City: \", city, \"Current date: \", current_date, \"Interval end date: \", interval_end_date)\n",
    "\n",
    "        scrapper.select_dates(browser, current_date, interval_end_date)\n",
    "\n",
    "        if c_d == s_d:\n",
    "            my_xpath = '/html/body/div[3]/div[2]/div/form/div[1]/div[4]/button/span'\n",
    "            scrapper.check_and_click(browser, my_xpath, type='xpath')\n",
    "        else:\n",
    "            my_xpath = '/html/body/div[4]/div/div[2]/div/div[1]/div/form/div[1]/div[4]/button/span'\n",
    "            scrapper.check_and_click(browser, my_xpath, type='xpath')\n",
    "\n",
    "        time.sleep(2)\n",
    "        scrapper.check_and_click(browser, 'div.cc1b961f14:nth-child(1) > button:nth-child(1)', 'css')\n",
    "\n",
    "        pages = scrapper.get_number_pages(browser)\n",
    "        page_stop = min(pages, page_limit) if page_limit is not None else pages\n",
    "\n",
    "        for p in range(page_stop - 1):\n",
    "            print(\"Page: \", p + 1)\n",
    "            df_temp = pd.DataFrame(scrapper.get_hotels(browser))\n",
    "            df_temp['City'] = city\n",
    "            df_temp['Start_Date'] = current_date\n",
    "            df_temp['End_Date'] = interval_end_date\n",
    "            result_df = pd.concat([result_df, df_temp], ignore_index=True)\n",
    "            time.sleep(3)\n",
    "\n",
    "            if p < page_stop - 1:\n",
    "                css = 'div.b16a89683f:nth-child(3) > button:nth-child(1)'\n",
    "                browser.find_element('css selector', css).click()\n",
    "                time.sleep(2)\n",
    "            else:\n",
    "                break\n",
    "\n",
    "        c_d = i_e_d\n",
    "\n",
    "    browser.quit()\n",
    "    return result_df\n",
    "\n",
    "def scrape_data_parallel(cities, start_date, end_date, interval=None, page_limit=None):\n",
    "    \"\"\"\n",
    "    Scrapes hotel data for the specified cities and date range using parallel execution.\n",
    "\n",
    "    Parameters:\n",
    "    - cities: List of cities to scrape data for.\n",
    "    - start_date: Start date in the format 'YYYY-MM-DD'.\n",
    "    - end_date: End date in the format 'YYYY-MM-DD'.\n",
    "    - interval: Number of days for each interval. If None, get prices for the entire range.\n",
    "    - page_limit: Maximum number of pages to scrape.\n",
    "\n",
    "    Returns:\n",
    "    - DataFrame containing scraped data with columns: 'City', 'Start_Date', 'End_Date', 'Hotel_Name', 'Price', 'Hotel_Description_Short', 'Rating', 'url'.\n",
    "    \"\"\"\n",
    "    with concurrent.futures.ThreadPoolExecutor() as executor:\n",
    "        # Create a list of futures, each corresponding to scraping data for one city\n",
    "        futures = [executor.submit(scrape_city, city, start_date, end_date, interval, page_limit) for city in cities]\n",
    "\n",
    "        # Wait for all futures to complete\n",
    "        concurrent.futures.wait(futures)\n",
    "\n",
    "        # Extract results from completed futures\n",
    "        results = [future.result() for future in futures]\n",
    "\n",
    "    # Concatenate results into a single DataFrame\n",
    "    result_df = pd.concat(results, ignore_index=True)\n",
    "\n",
    "    return result_df\n",
    "\n",
    "df = None"
   ]
  },
  {
   "cell_type": "markdown",
   "metadata": {},
   "source": [
    "**4. Scrape date, room price, hotel name and hotel description.**"
   ]
  },
  {
   "cell_type": "markdown",
   "metadata": {},
   "source": [
    "## Start Scrapping: (comment to skip this part of the notebook)"
   ]
  },
  {
   "cell_type": "code",
   "execution_count": null,
   "metadata": {},
   "outputs": [],
   "source": [
    "# Scrape data for the specified cities and date range\n",
    "df = scrape_data_parallel(cities, start_date, end_date, interval=interval, page_limit=p_limit)"
   ]
  },
  {
   "cell_type": "code",
   "execution_count": 5,
   "metadata": {},
   "outputs": [],
   "source": [
    "if df is not None:\n",
    "    print(\"Length of the dataframe: \", len(df))\n",
    "    print(\"Unique Hotels in the dataframe: \",len(df['Hotel_Name'].unique()))\n",
    "    print(\"Unique Cities in the dataframe: \",len(df['City'].unique()))\n",
    "    print(\"Unique Dates in the dataframe: \",len(df['Start_Date'].unique()))"
   ]
  },
  {
   "cell_type": "markdown",
   "metadata": {},
   "source": [
    "Method to save the scrapped data into a csv file. The file will be named in the format:\n",
    "\n",
    "[cities]_Start-Date_End-date_Intervall.csv"
   ]
  },
  {
   "cell_type": "code",
   "execution_count": 6,
   "metadata": {},
   "outputs": [],
   "source": [
    "def save_dataframe_to_csv(df, city, start_date, end_date, interval_days=None):\n",
    "    # Convert city to a string if it's a list\n",
    "    if isinstance(city, list):\n",
    "        city_name = '_'.join(city)\n",
    "    else:\n",
    "        city_name = str(city)\n",
    "\n",
    "    # Build the file name\n",
    "    file_name_parts = [city_name, start_date, end_date]\n",
    "    if interval_days is not None:\n",
    "        file_name_parts.append(f\"{interval_days}_days\")\n",
    "    \n",
    "    file_name = '_'.join(file_name_parts) + '.csv'\n",
    "    \n",
    "    # Ensure the 'data' folder exists\n",
    "    if not os.path.exists('data'):\n",
    "        os.makedirs('data')\n",
    "\n",
    "    # Save DataFrame to CSV\n",
    "    df.to_csv(os.path.join('data', file_name), index=False)\n",
    "\n",
    "if df is not None:\n",
    "    save_dataframe_to_csv(df, cities, start_date, end_date, interval)"
   ]
  },
  {
   "cell_type": "markdown",
   "metadata": {},
   "source": [
    "Within the data folder, you'll find a file named Hotel_Descriptions.csv, housing the previously scraped descriptions of each hotel. This approach guarantees that each description is stored only once, preventing redundant entries in the primary CSV file, given that a particular hotel may appear multiple times.\n",
    "\n",
    "The download function retrieves descriptions for hotels in the current dataset that are not yet present in the database."
   ]
  },
  {
   "cell_type": "code",
   "execution_count": 7,
   "metadata": {},
   "outputs": [],
   "source": [
    "headers = {'User-Agent': 'Mozilla/5.0 (Windows NT 10.0; Win64; x64) AppleWebKit/537.36 (KHTML, like Gecko) Chrome/75.0.3770.142 Safari/537.36'}\n",
    "\n",
    "def scrape_description(url):\n",
    "    try:\n",
    "        response = requests.get(url, headers=headers, timeout=10)\n",
    "        response.raise_for_status() \n",
    "        # time.sleep(0.5)\n",
    "    except requests.exceptions.RequestException as e:\n",
    "        print(f\"Error processing {url}: {e}\")\n",
    "        return None\n",
    "\n",
    "    soup = BeautifulSoup(response.text, 'html.parser')\n",
    "    description_tag = soup.find('p', class_='a53cbfa6de b3efd73f69')\n",
    "\n",
    "    if description_tag:\n",
    "        return description_tag.get_text(strip=True)\n",
    "    else:\n",
    "        print(f\"Description tag not found on the page: {url}\")\n",
    "        return None\n",
    "\n",
    "def download_save_description_column(df):\n",
    "    # Set the number of concurrent threads (adjust this based on the processing power of your computer)\n",
    "    num_cpus = os.cpu_count()\n",
    "    \n",
    "    \n",
    "    num_threads = max(4, num_cpus - 1)\n",
    "\n",
    "    df_des = df[['City','Hotel_Name','url']].copy()\n",
    "\n",
    "    # Drop duplicates\n",
    "    df_des.drop_duplicates(subset=['Hotel_Name'], inplace=True)\n",
    "\n",
    "    # If it exist open dataset of descriptions of the city\n",
    "    if os.path.exists('data/Hotel_Descriptions.csv'):\n",
    "        df_description = pd.read_csv('data/Hotel_Descriptions.csv')\n",
    "        print(\"Hotel_Descriptions.csv length: \", len(df_description))\n",
    "        df_description.drop_duplicates(subset=['Hotel_Name'], inplace=True)\n",
    "        df_des = df_des[~df_des['Hotel_Name'].isin(df_description['Hotel_Name'])]\n",
    "        print(\"Amount of new descriptions to download: \", len(df_des))\n",
    "    \n",
    "    # Create a ThreadPoolExecutor to run operations in parallel\n",
    "    with ThreadPoolExecutor(max_workers=num_threads) as executor:\n",
    "        # Use executor.map to apply the scrape_description function to each URL in parallel\n",
    "        descriptions = []\n",
    "        for i, description in enumerate(executor.map(scrape_description, df_des['url']), start=1):\n",
    "            descriptions.append(description)\n",
    "            # Print every 50 link to check the progess of the scraping\n",
    "            if i % 50 == 0:\n",
    "                print(f\"Scraped {i} links\")\n",
    "\n",
    "    # Add  descriptions to the 'description' column in the df\n",
    "    df_des['Hotel_Description_Long'] = descriptions\n",
    "\n",
    "    # Merge the new descriptions with the existing ones\n",
    "    if os.path.exists('data/Hotel_Descriptions.csv'):\n",
    "        df_description = pd.read_csv('data/Hotel_Descriptions.csv')\n",
    "        df_description = pd.concat([df_description, df_des], ignore_index=True)\n",
    "    else:\n",
    "        df_description = df_des\n",
    "\n",
    "    # Save the descriptions to a CSV file\n",
    "    print(\"Lenth of the new dataset: \", len(df_description))\n",
    "    df_description.to_csv('data/Hotel_Descriptions.csv', index=False)\n",
    "    \n",
    "    return df_description\n",
    "\n",
    "# Example usage:\n",
    "if df is not None:\n",
    "    df_description = download_save_description_column(df=df)\n",
    "    print(\"New length of the dataset: \", len(df_description))"
   ]
  },
  {
   "cell_type": "markdown",
   "metadata": {},
   "source": [
    "# Part 2: Difference-in-differences (DiD)"
   ]
  },
  {
   "cell_type": "markdown",
   "metadata": {},
   "source": [
    "**Treatment period:**\n",
    "\\begin{equation}\n",
    "Y_{t} = \\beta_0 + \\beta_1 D_t + \\varepsilon_{t}\n",
    "\\end{equation}\n",
    "\n",
    "$Y_{t}$ is the price for observation $i$ in time period $t$, \n",
    "$D_i$ is a dummy variable that takes the value of 1 during the treatment period and 0 otherwise, and \n",
    "$\\beta_1$ captures the average treatment effect over time\n",
    "\n",
    "**Treatment city:**\n",
    "\\begin{equation}\n",
    "Y_{i} = \\beta_0 + \\beta_2 T_i + \\varepsilon_{i}\n",
    "\\end{equation}\n",
    "\n",
    "$T_i$ is a dummy variable that takes the value of 1 for the treatment city and 0 otherwise, \n",
    "$\\beta_2$ captures the average difference in prices between the treatment city and the control cities\n",
    "\n",
    "**Both (final equation):**\n",
    "\\begin{equation}\n",
    "Y_{it} = \\beta_0 + \\beta_1 D_t + \\beta_2 T_i + \\alpha D_t T_i + \\varepsilon_{it}\n",
    "\\end{equation}\n",
    "\n",
    "$T_i$ is the treatment period dummy,\n",
    "$D_i$ is the treatment city, \n",
    "$\\alpha$ is the one that captures the DiD estimate, which is the differential change in prices for the treatment group compared to the control group, and\n",
    "where $T_i = 1$ if individual $i$ is treatment period $t=1$ and $T_i=0$ otherwise\n",
    "\n",
    "\n",
    "**Why use a second city**\n",
    "\n",
    "The second city plays the role of a control group which is crucial for DiD analysis because it helps control for time-invariant unobserved factors that may affect prices in both the treatment and control groups. The key assumption in a DiD analysis is the parallel trends assumption, which implies that, in the absence of the treatment, the average outcomes for the treatment and control groups would follow parallel paths over time. Violation of this assumption could lead to biased estimates.\n",
    "\n",
    "\n",
    "**Why $\\alpha$ captures the treatment effect:**\n",
    "\n",
    "If $\\alpha$ is statistically significant and positive, it suggests that the treatment (event) had a differential impact on prices in the treatment city compared to the control cities. This coefficient captures the average treatment effect on prices that cannot be explained by time trends or differences between the treatment and control cities.\n",
    "\n",
    "### Load and preprocess data:"
   ]
  },
  {
   "cell_type": "code",
   "execution_count": 8,
   "metadata": {},
   "outputs": [
    {
     "name": "stdout",
     "output_type": "stream",
     "text": [
      "Common hotels:  2834\n"
     ]
    },
    {
     "name": "stderr",
     "output_type": "stream",
     "text": [
      "C:\\Users\\School\\AppData\\Local\\Temp\\ipykernel_14500\\2879551115.py:18: SettingWithCopyWarning: \n",
      "A value is trying to be set on a copy of a slice from a DataFrame.\n",
      "Try using .loc[row_indexer,col_indexer] = value instead\n",
      "\n",
      "See the caveats in the documentation: https://pandas.pydata.org/pandas-docs/stable/user_guide/indexing.html#returning-a-view-versus-a-copy\n",
      "  df1_common['Price'] = pd.to_numeric(df1_common['Price'].replace('[^\\d]', '', regex=True)).iloc[:]\n",
      "C:\\Users\\School\\AppData\\Local\\Temp\\ipykernel_14500\\2879551115.py:19: SettingWithCopyWarning: \n",
      "A value is trying to be set on a copy of a slice from a DataFrame.\n",
      "Try using .loc[row_indexer,col_indexer] = value instead\n",
      "\n",
      "See the caveats in the documentation: https://pandas.pydata.org/pandas-docs/stable/user_guide/indexing.html#returning-a-view-versus-a-copy\n",
      "  df2_common['Price'] = pd.to_numeric(df2_common['Price'].replace('[^\\d]', '', regex=True)).iloc[:]\n",
      "C:\\Users\\School\\AppData\\Local\\Temp\\ipykernel_14500\\2879551115.py:28: SettingWithCopyWarning: \n",
      "A value is trying to be set on a copy of a slice from a DataFrame.\n",
      "Try using .loc[row_indexer,col_indexer] = value instead\n",
      "\n",
      "See the caveats in the documentation: https://pandas.pydata.org/pandas-docs/stable/user_guide/indexing.html#returning-a-view-versus-a-copy\n",
      "  df[column] = np.where(\n",
      "C:\\Users\\School\\AppData\\Local\\Temp\\ipykernel_14500\\2879551115.py:28: SettingWithCopyWarning: \n",
      "A value is trying to be set on a copy of a slice from a DataFrame.\n",
      "Try using .loc[row_indexer,col_indexer] = value instead\n",
      "\n",
      "See the caveats in the documentation: https://pandas.pydata.org/pandas-docs/stable/user_guide/indexing.html#returning-a-view-versus-a-copy\n",
      "  df[column] = np.where(\n"
     ]
    }
   ],
   "source": [
    "df1 = pd.read_csv('data\\Barcelona_Marseille_Porto_Valencia_2024-02-23_2024-03-03_1_days.csv')\n",
    "df2 = pd.read_csv('data\\Barcelona_Marseille_Porto_Valencia_2024-03-08_2024-03-17_1_days.csv')\n",
    "df_des = pd.read_csv('data\\Hotel_Descriptions.csv')\n",
    "\n",
    "# Merge dataframes with descriptions based on 'Hotel_Name' and 'City'\n",
    "df1 = df1.merge(df_des[['City', 'Hotel_Name', 'Hotel_Description_Long']], on=['City', 'Hotel_Name'], how='left')\n",
    "df2 = df2.merge(df_des[['City', 'Hotel_Name', 'Hotel_Description_Long']], on=['City', 'Hotel_Name'], how='left')\n",
    "\n",
    "# For the regression analysis make sure to keep the same hotels in both datasets\n",
    "# Step 1: Identify common hotels across all days\n",
    "common_hotels = set(df1['Hotel_Name']).intersection(set(df2['Hotel_Name']))\n",
    "print(\"Common hotels: \", len(common_hotels))\n",
    "# Step 2: Filter original dataframes based on common hotels\n",
    "df1_common = df1[df1['Hotel_Name'].isin(common_hotels)]\n",
    "df2_common = df2[df2['Hotel_Name'].isin(common_hotels)]\n",
    "\n",
    "# Handle ¨Price¨ column\n",
    "df1_common['Price'] = pd.to_numeric(df1_common['Price'].replace('[^\\d]', '', regex=True)).iloc[:]\n",
    "df2_common['Price'] = pd.to_numeric(df2_common['Price'].replace('[^\\d]', '', regex=True)).iloc[:]\n",
    "\n",
    "# Replace Price outliers with the median\n",
    "def replace_outliers(df, column, threshold=1.5):\n",
    "    # Calculate the median and the interquartile range\n",
    "    median = df[column].median()\n",
    "    iqr = df[column].quantile(0.75) - df[column].quantile(0.25)\n",
    "\n",
    "    # Replace outliers\n",
    "    df[column] = np.where(\n",
    "        (df[column] < df[column].quantile(0.25) - threshold * iqr) | (df[column] > df[column].quantile(0.75) + threshold * iqr),\n",
    "        median,\n",
    "        df[column]\n",
    "    )\n",
    "    return df\n",
    "\n",
    "df1_common = replace_outliers(df1_common, 'Price')\n",
    "df2_common = replace_outliers(df2_common, 'Price')"
   ]
  },
  {
   "cell_type": "code",
   "execution_count": 9,
   "metadata": {},
   "outputs": [
    {
     "name": "stderr",
     "output_type": "stream",
     "text": [
      "C:\\Users\\School\\AppData\\Local\\Temp\\ipykernel_14500\\1903982185.py:9: SettingWithCopyWarning: \n",
      "A value is trying to be set on a copy of a slice from a DataFrame.\n",
      "Try using .loc[row_indexer,col_indexer] = value instead\n",
      "\n",
      "See the caveats in the documentation: https://pandas.pydata.org/pandas-docs/stable/user_guide/indexing.html#returning-a-view-versus-a-copy\n",
      "  df1_common['D'] = 1\n",
      "C:\\Users\\School\\AppData\\Local\\Temp\\ipykernel_14500\\1903982185.py:10: SettingWithCopyWarning: \n",
      "A value is trying to be set on a copy of a slice from a DataFrame.\n",
      "Try using .loc[row_indexer,col_indexer] = value instead\n",
      "\n",
      "See the caveats in the documentation: https://pandas.pydata.org/pandas-docs/stable/user_guide/indexing.html#returning-a-view-versus-a-copy\n",
      "  df2_common['D'] = 0\n",
      "C:\\Users\\School\\AppData\\Local\\Temp\\ipykernel_14500\\1903982185.py:13: SettingWithCopyWarning: \n",
      "A value is trying to be set on a copy of a slice from a DataFrame.\n",
      "Try using .loc[row_indexer,col_indexer] = value instead\n",
      "\n",
      "See the caveats in the documentation: https://pandas.pydata.org/pandas-docs/stable/user_guide/indexing.html#returning-a-view-versus-a-copy\n",
      "  df1_common['T'] = np.where(df1_common['City'] == 'Barcelona', 1, 0)\n",
      "C:\\Users\\School\\AppData\\Local\\Temp\\ipykernel_14500\\1903982185.py:14: SettingWithCopyWarning: \n",
      "A value is trying to be set on a copy of a slice from a DataFrame.\n",
      "Try using .loc[row_indexer,col_indexer] = value instead\n",
      "\n",
      "See the caveats in the documentation: https://pandas.pydata.org/pandas-docs/stable/user_guide/indexing.html#returning-a-view-versus-a-copy\n",
      "  df2_common['T'] = np.where(df2_common['City'] == 'Barcelona', 1, 0)\n"
     ]
    }
   ],
   "source": [
    "#Creation of the dummy variables for the regression\n",
    "# D is treatment period\n",
    "# T is treatment city\n",
    "\n",
    "# Set control city\n",
    "city_control = 'Valencia'\n",
    "\n",
    "# Set a dummy variable for the treatment period\n",
    "df1_common['D'] = 1\n",
    "df2_common['D'] = 0\n",
    "\n",
    "# Set a dummy variable for the treatment city\n",
    "df1_common['T'] = np.where(df1_common['City'] == 'Barcelona', 1, 0)\n",
    "df2_common['T'] = np.where(df2_common['City'] == 'Barcelona', 1, 0)"
   ]
  },
  {
   "cell_type": "code",
   "execution_count": 10,
   "metadata": {},
   "outputs": [
    {
     "data": {
      "text/html": [
       "<div>\n",
       "<style scoped>\n",
       "    .dataframe tbody tr th:only-of-type {\n",
       "        vertical-align: middle;\n",
       "    }\n",
       "\n",
       "    .dataframe tbody tr th {\n",
       "        vertical-align: top;\n",
       "    }\n",
       "\n",
       "    .dataframe thead th {\n",
       "        text-align: right;\n",
       "    }\n",
       "</style>\n",
       "<table border=\"1\" class=\"dataframe\">\n",
       "  <thead>\n",
       "    <tr style=\"text-align: right;\">\n",
       "      <th></th>\n",
       "      <th>City</th>\n",
       "      <th>Start_Date</th>\n",
       "      <th>End_Date</th>\n",
       "      <th>Hotel_Name</th>\n",
       "      <th>Price</th>\n",
       "      <th>Hotel_Description_Short</th>\n",
       "      <th>Rating</th>\n",
       "      <th>url</th>\n",
       "      <th>Hotel_Description_Long</th>\n",
       "      <th>D</th>\n",
       "      <th>T</th>\n",
       "    </tr>\n",
       "  </thead>\n",
       "  <tbody>\n",
       "    <tr>\n",
       "      <th>0</th>\n",
       "      <td>Barcelona</td>\n",
       "      <td>2024-02-23</td>\n",
       "      <td>2024-02-24</td>\n",
       "      <td>Room Mate Gerard</td>\n",
       "      <td>224.0</td>\n",
       "      <td>NaN</td>\n",
       "      <td>8.8</td>\n",
       "      <td>https://www.booking.com/hotel/es/room-mate-ger...</td>\n",
       "      <td>Room Mate Gerard in Barcelona provides accommo...</td>\n",
       "      <td>1</td>\n",
       "      <td>1</td>\n",
       "    </tr>\n",
       "    <tr>\n",
       "      <th>1</th>\n",
       "      <td>Barcelona</td>\n",
       "      <td>2024-02-23</td>\n",
       "      <td>2024-02-24</td>\n",
       "      <td>Sonder Los Arcos</td>\n",
       "      <td>271.0</td>\n",
       "      <td>NaN</td>\n",
       "      <td>8.4</td>\n",
       "      <td>https://www.booking.com/hotel/es/sonder-los-ar...</td>\n",
       "      <td>Sonder Los Arcos features accommodation with f...</td>\n",
       "      <td>1</td>\n",
       "      <td>1</td>\n",
       "    </tr>\n",
       "    <tr>\n",
       "      <th>2</th>\n",
       "      <td>Barcelona</td>\n",
       "      <td>2024-02-23</td>\n",
       "      <td>2024-02-24</td>\n",
       "      <td>Citadines Ramblas Barcelona</td>\n",
       "      <td>116.0</td>\n",
       "      <td>NaN</td>\n",
       "      <td>8.5</td>\n",
       "      <td>https://www.booking.com/hotel/es/citadines.en-...</td>\n",
       "      <td>Centrally located on Barcelona’s famous Las Ra...</td>\n",
       "      <td>1</td>\n",
       "      <td>1</td>\n",
       "    </tr>\n",
       "    <tr>\n",
       "      <th>3</th>\n",
       "      <td>Barcelona</td>\n",
       "      <td>2024-02-23</td>\n",
       "      <td>2024-02-24</td>\n",
       "      <td>Hotel Derby</td>\n",
       "      <td>101.0</td>\n",
       "      <td>NaN</td>\n",
       "      <td>8.3</td>\n",
       "      <td>https://www.booking.com/hotel/es/derby.en-gb.h...</td>\n",
       "      <td>Situated 300 metres from L’Illa Diagonal Shopp...</td>\n",
       "      <td>1</td>\n",
       "      <td>1</td>\n",
       "    </tr>\n",
       "    <tr>\n",
       "      <th>4</th>\n",
       "      <td>Barcelona</td>\n",
       "      <td>2024-02-23</td>\n",
       "      <td>2024-02-24</td>\n",
       "      <td>Hotel Concordia Barcelona</td>\n",
       "      <td>105.0</td>\n",
       "      <td>NaN</td>\n",
       "      <td>8.1</td>\n",
       "      <td>https://www.booking.com/hotel/es/concordia.en-...</td>\n",
       "      <td>Hotel Concordia Barcelona is situated 800 metr...</td>\n",
       "      <td>1</td>\n",
       "      <td>1</td>\n",
       "    </tr>\n",
       "  </tbody>\n",
       "</table>\n",
       "</div>"
      ],
      "text/plain": [
       "        City  Start_Date    End_Date                   Hotel_Name  Price  \\\n",
       "0  Barcelona  2024-02-23  2024-02-24             Room Mate Gerard  224.0   \n",
       "1  Barcelona  2024-02-23  2024-02-24             Sonder Los Arcos  271.0   \n",
       "2  Barcelona  2024-02-23  2024-02-24  Citadines Ramblas Barcelona  116.0   \n",
       "3  Barcelona  2024-02-23  2024-02-24                  Hotel Derby  101.0   \n",
       "4  Barcelona  2024-02-23  2024-02-24    Hotel Concordia Barcelona  105.0   \n",
       "\n",
       "  Hotel_Description_Short  Rating  \\\n",
       "0                     NaN     8.8   \n",
       "1                     NaN     8.4   \n",
       "2                     NaN     8.5   \n",
       "3                     NaN     8.3   \n",
       "4                     NaN     8.1   \n",
       "\n",
       "                                                 url  \\\n",
       "0  https://www.booking.com/hotel/es/room-mate-ger...   \n",
       "1  https://www.booking.com/hotel/es/sonder-los-ar...   \n",
       "2  https://www.booking.com/hotel/es/citadines.en-...   \n",
       "3  https://www.booking.com/hotel/es/derby.en-gb.h...   \n",
       "4  https://www.booking.com/hotel/es/concordia.en-...   \n",
       "\n",
       "                              Hotel_Description_Long  D  T  \n",
       "0  Room Mate Gerard in Barcelona provides accommo...  1  1  \n",
       "1  Sonder Los Arcos features accommodation with f...  1  1  \n",
       "2  Centrally located on Barcelona’s famous Las Ra...  1  1  \n",
       "3  Situated 300 metres from L’Illa Diagonal Shopp...  1  1  \n",
       "4  Hotel Concordia Barcelona is situated 800 metr...  1  1  "
      ]
     },
     "execution_count": 10,
     "metadata": {},
     "output_type": "execute_result"
    }
   ],
   "source": [
    "df1_common.head()"
   ]
  },
  {
   "cell_type": "code",
   "execution_count": 11,
   "metadata": {},
   "outputs": [
    {
     "data": {
      "text/html": [
       "<div>\n",
       "<style scoped>\n",
       "    .dataframe tbody tr th:only-of-type {\n",
       "        vertical-align: middle;\n",
       "    }\n",
       "\n",
       "    .dataframe tbody tr th {\n",
       "        vertical-align: top;\n",
       "    }\n",
       "\n",
       "    .dataframe thead th {\n",
       "        text-align: right;\n",
       "    }\n",
       "</style>\n",
       "<table border=\"1\" class=\"dataframe\">\n",
       "  <thead>\n",
       "    <tr style=\"text-align: right;\">\n",
       "      <th></th>\n",
       "      <th>Price</th>\n",
       "      <th>Rating</th>\n",
       "      <th>D</th>\n",
       "      <th>T</th>\n",
       "    </tr>\n",
       "  </thead>\n",
       "  <tbody>\n",
       "    <tr>\n",
       "      <th>count</th>\n",
       "      <td>18321.000000</td>\n",
       "      <td>16810.000000</td>\n",
       "      <td>18321.0</td>\n",
       "      <td>18321.000000</td>\n",
       "    </tr>\n",
       "    <tr>\n",
       "      <th>mean</th>\n",
       "      <td>131.741062</td>\n",
       "      <td>8.171142</td>\n",
       "      <td>1.0</td>\n",
       "      <td>0.244201</td>\n",
       "    </tr>\n",
       "    <tr>\n",
       "      <th>std</th>\n",
       "      <td>64.431061</td>\n",
       "      <td>1.105837</td>\n",
       "      <td>0.0</td>\n",
       "      <td>0.429624</td>\n",
       "    </tr>\n",
       "    <tr>\n",
       "      <th>min</th>\n",
       "      <td>25.000000</td>\n",
       "      <td>1.000000</td>\n",
       "      <td>1.0</td>\n",
       "      <td>0.000000</td>\n",
       "    </tr>\n",
       "    <tr>\n",
       "      <th>25%</th>\n",
       "      <td>84.000000</td>\n",
       "      <td>7.800000</td>\n",
       "      <td>1.0</td>\n",
       "      <td>0.000000</td>\n",
       "    </tr>\n",
       "    <tr>\n",
       "      <th>50%</th>\n",
       "      <td>123.000000</td>\n",
       "      <td>8.400000</td>\n",
       "      <td>1.0</td>\n",
       "      <td>0.000000</td>\n",
       "    </tr>\n",
       "    <tr>\n",
       "      <th>75%</th>\n",
       "      <td>164.000000</td>\n",
       "      <td>8.900000</td>\n",
       "      <td>1.0</td>\n",
       "      <td>0.000000</td>\n",
       "    </tr>\n",
       "    <tr>\n",
       "      <th>max</th>\n",
       "      <td>344.000000</td>\n",
       "      <td>10.000000</td>\n",
       "      <td>1.0</td>\n",
       "      <td>1.000000</td>\n",
       "    </tr>\n",
       "  </tbody>\n",
       "</table>\n",
       "</div>"
      ],
      "text/plain": [
       "              Price        Rating        D             T\n",
       "count  18321.000000  16810.000000  18321.0  18321.000000\n",
       "mean     131.741062      8.171142      1.0      0.244201\n",
       "std       64.431061      1.105837      0.0      0.429624\n",
       "min       25.000000      1.000000      1.0      0.000000\n",
       "25%       84.000000      7.800000      1.0      0.000000\n",
       "50%      123.000000      8.400000      1.0      0.000000\n",
       "75%      164.000000      8.900000      1.0      0.000000\n",
       "max      344.000000     10.000000      1.0      1.000000"
      ]
     },
     "execution_count": 11,
     "metadata": {},
     "output_type": "execute_result"
    }
   ],
   "source": [
    "df1_common.describe()"
   ]
  },
  {
   "cell_type": "code",
   "execution_count": 12,
   "metadata": {},
   "outputs": [
    {
     "data": {
      "text/plain": [
       "(20663, 9)"
      ]
     },
     "execution_count": 12,
     "metadata": {},
     "output_type": "execute_result"
    }
   ],
   "source": [
    "df1.shape"
   ]
  },
  {
   "cell_type": "code",
   "execution_count": 13,
   "metadata": {},
   "outputs": [
    {
     "data": {
      "image/png": "[encoded data removed]",
      "text/plain": [
       "<Figure size 640x480 with 1 Axes>"
      ]
     },
     "metadata": {},
     "output_type": "display_data"
    }
   ],
   "source": [
    "# Concatenate both dataset only for the city of Barcelona\n",
    "barcelona_df = pd.concat([df1_common[df1_common['City']=='Barcelona'], df2_common[df2_common['City']=='Barcelona']], ignore_index=True)\n",
    "\n",
    "# Plotting boxplot using seaborn\n",
    "sns.boxplot(data=barcelona_df , x='D', y='Price')\n",
    "plt.title('Boxplot of Barcelona prices. 0 if not treatment 1 if treatment (MWC)')\n",
    "plt.xlabel('Treatment period dummy D')\n",
    "plt.ylabel('prices')\n",
    "plt.show()"
   ]
  },
  {
   "cell_type": "code",
   "execution_count": 14,
   "metadata": {},
   "outputs": [
    {
     "data": {
      "image/png": "[encoded data removed]",
      "text/plain": [
       "<Figure size 640x480 with 1 Axes>"
      ]
     },
     "metadata": {},
     "output_type": "display_data"
    }
   ],
   "source": [
    "barcelona_city = pd.concat([df1_common[df1_common['City']=='Barcelona'], df1_common[df1_common['City']==city_control]], ignore_index=True)\n",
    "\n",
    "# Plotting boxplot using seaborn\n",
    "sns.boxplot(data=barcelona_city , x='T', y='Price')\n",
    "plt.title('Boxplot of prices treatment city against control city (During event: MWC)')\n",
    "plt.xlabel('Treatment city dummy T')\n",
    "plt.ylabel('prices')\n",
    "plt.show()"
   ]
  },
  {
   "cell_type": "code",
   "execution_count": 15,
   "metadata": {},
   "outputs": [
    {
     "data": {
      "image/png": "[encoded data removed]",
      "text/plain": [
       "<Figure size 640x480 with 1 Axes>"
      ]
     },
     "metadata": {},
     "output_type": "display_data"
    }
   ],
   "source": [
    "barcelona_cityNT = pd.concat([df2_common[df2_common['City']=='Barcelona'], df2_common[df2_common['City']==city_control]], ignore_index=True)\n",
    "# Plotting boxplot using seaborn\n",
    "sns.boxplot(data=barcelona_cityNT , x='T', y='Price')\n",
    "plt.title('Boxplot of prices by treatment city against control (During NO treatment)')\n",
    "plt.xlabel('Treatment city dummy T')\n",
    "plt.ylabel('prices')\n",
    "plt.show()"
   ]
  },
  {
   "cell_type": "code",
   "execution_count": 16,
   "metadata": {},
   "outputs": [
    {
     "data": {
      "image/png": "[encoded data removed]",
      "text/plain": [
       "<Figure size 640x480 with 1 Axes>"
      ]
     },
     "metadata": {},
     "output_type": "display_data"
    }
   ],
   "source": [
    "city = pd.concat([df1_common[df1_common['City']==city_control], df2_common[df2_common['City']==city_control]], ignore_index=True)\n",
    "# Plotting boxplot using seaborn\n",
    "sns.boxplot(data=city , x='D', y='Price')\n",
    "plt.title('Boxplot of prices in Control city. . 0 if not treatment 1 if treatment (MWC)')\n",
    "plt.xlabel('Treatment period dummy D')\n",
    "plt.ylabel('prices')\n",
    "plt.show()"
   ]
  },
  {
   "cell_type": "code",
   "execution_count": 17,
   "metadata": {},
   "outputs": [
    {
     "name": "stdout",
     "output_type": "stream",
     "text": [
      "(38819, 12)\n"
     ]
    },
    {
     "data": {
      "text/html": [
       "<div>\n",
       "<style scoped>\n",
       "    .dataframe tbody tr th:only-of-type {\n",
       "        vertical-align: middle;\n",
       "    }\n",
       "\n",
       "    .dataframe tbody tr th {\n",
       "        vertical-align: top;\n",
       "    }\n",
       "\n",
       "    .dataframe thead th {\n",
       "        text-align: right;\n",
       "    }\n",
       "</style>\n",
       "<table border=\"1\" class=\"dataframe\">\n",
       "  <thead>\n",
       "    <tr style=\"text-align: right;\">\n",
       "      <th></th>\n",
       "      <th>City</th>\n",
       "      <th>Start_Date</th>\n",
       "      <th>End_Date</th>\n",
       "      <th>Hotel_Name</th>\n",
       "      <th>Price</th>\n",
       "      <th>Hotel_Description_Short</th>\n",
       "      <th>Rating</th>\n",
       "      <th>url</th>\n",
       "      <th>Hotel_Description_Long</th>\n",
       "      <th>D</th>\n",
       "      <th>T</th>\n",
       "      <th>T*D</th>\n",
       "    </tr>\n",
       "  </thead>\n",
       "  <tbody>\n",
       "    <tr>\n",
       "      <th>0</th>\n",
       "      <td>Barcelona</td>\n",
       "      <td>2024-02-23</td>\n",
       "      <td>2024-02-24</td>\n",
       "      <td>Room Mate Gerard</td>\n",
       "      <td>224.0</td>\n",
       "      <td>NaN</td>\n",
       "      <td>8.8</td>\n",
       "      <td>https://www.booking.com/hotel/es/room-mate-ger...</td>\n",
       "      <td>Room Mate Gerard in Barcelona provides accommo...</td>\n",
       "      <td>1</td>\n",
       "      <td>1</td>\n",
       "      <td>1</td>\n",
       "    </tr>\n",
       "    <tr>\n",
       "      <th>1</th>\n",
       "      <td>Barcelona</td>\n",
       "      <td>2024-02-23</td>\n",
       "      <td>2024-02-24</td>\n",
       "      <td>Sonder Los Arcos</td>\n",
       "      <td>271.0</td>\n",
       "      <td>NaN</td>\n",
       "      <td>8.4</td>\n",
       "      <td>https://www.booking.com/hotel/es/sonder-los-ar...</td>\n",
       "      <td>Sonder Los Arcos features accommodation with f...</td>\n",
       "      <td>1</td>\n",
       "      <td>1</td>\n",
       "      <td>1</td>\n",
       "    </tr>\n",
       "    <tr>\n",
       "      <th>2</th>\n",
       "      <td>Barcelona</td>\n",
       "      <td>2024-02-23</td>\n",
       "      <td>2024-02-24</td>\n",
       "      <td>Citadines Ramblas Barcelona</td>\n",
       "      <td>116.0</td>\n",
       "      <td>NaN</td>\n",
       "      <td>8.5</td>\n",
       "      <td>https://www.booking.com/hotel/es/citadines.en-...</td>\n",
       "      <td>Centrally located on Barcelona’s famous Las Ra...</td>\n",
       "      <td>1</td>\n",
       "      <td>1</td>\n",
       "      <td>1</td>\n",
       "    </tr>\n",
       "    <tr>\n",
       "      <th>3</th>\n",
       "      <td>Barcelona</td>\n",
       "      <td>2024-02-23</td>\n",
       "      <td>2024-02-24</td>\n",
       "      <td>Hotel Derby</td>\n",
       "      <td>101.0</td>\n",
       "      <td>NaN</td>\n",
       "      <td>8.3</td>\n",
       "      <td>https://www.booking.com/hotel/es/derby.en-gb.h...</td>\n",
       "      <td>Situated 300 metres from L’Illa Diagonal Shopp...</td>\n",
       "      <td>1</td>\n",
       "      <td>1</td>\n",
       "      <td>1</td>\n",
       "    </tr>\n",
       "    <tr>\n",
       "      <th>4</th>\n",
       "      <td>Barcelona</td>\n",
       "      <td>2024-02-23</td>\n",
       "      <td>2024-02-24</td>\n",
       "      <td>Hotel Concordia Barcelona</td>\n",
       "      <td>105.0</td>\n",
       "      <td>NaN</td>\n",
       "      <td>8.1</td>\n",
       "      <td>https://www.booking.com/hotel/es/concordia.en-...</td>\n",
       "      <td>Hotel Concordia Barcelona is situated 800 metr...</td>\n",
       "      <td>1</td>\n",
       "      <td>1</td>\n",
       "      <td>1</td>\n",
       "    </tr>\n",
       "  </tbody>\n",
       "</table>\n",
       "</div>"
      ],
      "text/plain": [
       "        City  Start_Date    End_Date                   Hotel_Name  Price  \\\n",
       "0  Barcelona  2024-02-23  2024-02-24             Room Mate Gerard  224.0   \n",
       "1  Barcelona  2024-02-23  2024-02-24             Sonder Los Arcos  271.0   \n",
       "2  Barcelona  2024-02-23  2024-02-24  Citadines Ramblas Barcelona  116.0   \n",
       "3  Barcelona  2024-02-23  2024-02-24                  Hotel Derby  101.0   \n",
       "4  Barcelona  2024-02-23  2024-02-24    Hotel Concordia Barcelona  105.0   \n",
       "\n",
       "  Hotel_Description_Short  Rating  \\\n",
       "0                     NaN     8.8   \n",
       "1                     NaN     8.4   \n",
       "2                     NaN     8.5   \n",
       "3                     NaN     8.3   \n",
       "4                     NaN     8.1   \n",
       "\n",
       "                                                 url  \\\n",
       "0  https://www.booking.com/hotel/es/room-mate-ger...   \n",
       "1  https://www.booking.com/hotel/es/sonder-los-ar...   \n",
       "2  https://www.booking.com/hotel/es/citadines.en-...   \n",
       "3  https://www.booking.com/hotel/es/derby.en-gb.h...   \n",
       "4  https://www.booking.com/hotel/es/concordia.en-...   \n",
       "\n",
       "                              Hotel_Description_Long  D  T  T*D  \n",
       "0  Room Mate Gerard in Barcelona provides accommo...  1  1    1  \n",
       "1  Sonder Los Arcos features accommodation with f...  1  1    1  \n",
       "2  Centrally located on Barcelona’s famous Las Ra...  1  1    1  \n",
       "3  Situated 300 metres from L’Illa Diagonal Shopp...  1  1    1  \n",
       "4  Hotel Concordia Barcelona is situated 800 metr...  1  1    1  "
      ]
     },
     "execution_count": 17,
     "metadata": {},
     "output_type": "execute_result"
    }
   ],
   "source": [
    "#Creation of the big data frame\n",
    "combined_df = pd.concat([df1_common,df2_common], ignore_index=True)\n",
    "combined_df['T*D'] = combined_df['T'] * combined_df['D']\n",
    "# Display the combined DataFrame\n",
    "print(combined_df.shape)\n",
    "combined_df.head()"
   ]
  },
  {
   "cell_type": "code",
   "execution_count": 18,
   "metadata": {},
   "outputs": [
    {
     "data": {
      "text/html": [
       "<div>\n",
       "<style scoped>\n",
       "    .dataframe tbody tr th:only-of-type {\n",
       "        vertical-align: middle;\n",
       "    }\n",
       "\n",
       "    .dataframe tbody tr th {\n",
       "        vertical-align: top;\n",
       "    }\n",
       "\n",
       "    .dataframe thead th {\n",
       "        text-align: right;\n",
       "    }\n",
       "</style>\n",
       "<table border=\"1\" class=\"dataframe\">\n",
       "  <thead>\n",
       "    <tr style=\"text-align: right;\">\n",
       "      <th></th>\n",
       "      <th>Price</th>\n",
       "      <th>Rating</th>\n",
       "      <th>D</th>\n",
       "      <th>T</th>\n",
       "      <th>T*D</th>\n",
       "    </tr>\n",
       "  </thead>\n",
       "  <tbody>\n",
       "    <tr>\n",
       "      <th>count</th>\n",
       "      <td>38819.000000</td>\n",
       "      <td>35733.000000</td>\n",
       "      <td>38819.00000</td>\n",
       "      <td>38819.000000</td>\n",
       "      <td>38819.000000</td>\n",
       "    </tr>\n",
       "    <tr>\n",
       "      <th>mean</th>\n",
       "      <td>135.001211</td>\n",
       "      <td>8.183214</td>\n",
       "      <td>0.47196</td>\n",
       "      <td>0.269224</td>\n",
       "      <td>0.115253</td>\n",
       "    </tr>\n",
       "    <tr>\n",
       "      <th>std</th>\n",
       "      <td>61.368259</td>\n",
       "      <td>1.081067</td>\n",
       "      <td>0.49922</td>\n",
       "      <td>0.443562</td>\n",
       "      <td>0.319331</td>\n",
       "    </tr>\n",
       "    <tr>\n",
       "      <th>min</th>\n",
       "      <td>25.000000</td>\n",
       "      <td>1.000000</td>\n",
       "      <td>0.00000</td>\n",
       "      <td>0.000000</td>\n",
       "      <td>0.000000</td>\n",
       "    </tr>\n",
       "    <tr>\n",
       "      <th>25%</th>\n",
       "      <td>89.000000</td>\n",
       "      <td>7.800000</td>\n",
       "      <td>0.00000</td>\n",
       "      <td>0.000000</td>\n",
       "      <td>0.000000</td>\n",
       "    </tr>\n",
       "    <tr>\n",
       "      <th>50%</th>\n",
       "      <td>123.000000</td>\n",
       "      <td>8.400000</td>\n",
       "      <td>0.00000</td>\n",
       "      <td>0.000000</td>\n",
       "      <td>0.000000</td>\n",
       "    </tr>\n",
       "    <tr>\n",
       "      <th>75%</th>\n",
       "      <td>168.000000</td>\n",
       "      <td>8.900000</td>\n",
       "      <td>1.00000</td>\n",
       "      <td>1.000000</td>\n",
       "      <td>0.000000</td>\n",
       "    </tr>\n",
       "    <tr>\n",
       "      <th>max</th>\n",
       "      <td>344.000000</td>\n",
       "      <td>10.000000</td>\n",
       "      <td>1.00000</td>\n",
       "      <td>1.000000</td>\n",
       "      <td>1.000000</td>\n",
       "    </tr>\n",
       "  </tbody>\n",
       "</table>\n",
       "</div>"
      ],
      "text/plain": [
       "              Price        Rating            D             T           T*D\n",
       "count  38819.000000  35733.000000  38819.00000  38819.000000  38819.000000\n",
       "mean     135.001211      8.183214      0.47196      0.269224      0.115253\n",
       "std       61.368259      1.081067      0.49922      0.443562      0.319331\n",
       "min       25.000000      1.000000      0.00000      0.000000      0.000000\n",
       "25%       89.000000      7.800000      0.00000      0.000000      0.000000\n",
       "50%      123.000000      8.400000      0.00000      0.000000      0.000000\n",
       "75%      168.000000      8.900000      1.00000      1.000000      0.000000\n",
       "max      344.000000     10.000000      1.00000      1.000000      1.000000"
      ]
     },
     "execution_count": 18,
     "metadata": {},
     "output_type": "execute_result"
    }
   ],
   "source": [
    "combined_df.describe() #Checked if it worked "
   ]
  },
  {
   "cell_type": "code",
   "execution_count": 19,
   "metadata": {},
   "outputs": [
    {
     "name": "stdout",
     "output_type": "stream",
     "text": [
      "   T  D       Price    Rating  T*D\n",
      "0  0  0  125.158873  8.204413  0.0\n",
      "1  0  1  116.617534  8.195761  0.0\n",
      "2  1  0  168.906140  8.170520  0.0\n",
      "3  1  1  178.548279  8.099652  1.0\n"
     ]
    },
    {
     "name": "stderr",
     "output_type": "stream",
     "text": [
      "C:\\Users\\School\\AppData\\Local\\Temp\\ipykernel_14500\\2948570360.py:2: FutureWarning: The default value of numeric_only in DataFrameGroupBy.mean is deprecated. In a future version, numeric_only will default to False. Either specify numeric_only or select only columns which should be valid for the function.\n",
      "  mean_prices = combined_df.groupby(['T', 'D']).mean()\n"
     ]
    }
   ],
   "source": [
    "#Checking before running the regressions\n",
    "mean_prices = combined_df.groupby(['T', 'D']).mean()\n",
    "mean_prices_table = mean_prices.reset_index()\n",
    "print(mean_prices_table)"
   ]
  },
  {
   "cell_type": "code",
   "execution_count": 20,
   "metadata": {},
   "outputs": [
    {
     "name": "stdout",
     "output_type": "stream",
     "text": [
      "                            OLS Regression Results                            \n",
      "==============================================================================\n",
      "Dep. Variable:                  Price   R-squared:                       0.003\n",
      "Model:                            OLS   Adj. R-squared:                  0.002\n",
      "Method:                 Least Squares   F-statistic:                     98.16\n",
      "Date:                Sat, 03 Feb 2024   Prob (F-statistic):           4.10e-23\n",
      "Time:                        14:41:43   Log-Likelihood:            -2.1485e+05\n",
      "No. Observations:               38819   AIC:                         4.297e+05\n",
      "Df Residuals:                   38817   BIC:                         4.297e+05\n",
      "Df Model:                           1                                         \n",
      "Covariance Type:            nonrobust                                         \n",
      "==============================================================================\n",
      "                 coef    std err          t      P>|t|      [0.025      0.975]\n",
      "------------------------------------------------------------------------------\n",
      "const        137.9151      0.428    322.156      0.000     137.076     138.754\n",
      "D             -6.1741      0.623     -9.908      0.000      -7.395      -4.953\n",
      "==============================================================================\n",
      "Omnibus:                     4270.947   Durbin-Watson:                   1.397\n",
      "Prob(Omnibus):                  0.000   Jarque-Bera (JB):             5822.537\n",
      "Skew:                           0.908   Prob(JB):                         0.00\n",
      "Kurtosis:                       3.547   Cond. No.                         2.56\n",
      "==============================================================================\n",
      "\n",
      "Notes:\n",
      "[1] Standard Errors assume that the covariance matrix of the errors is correctly specified.\n"
     ]
    }
   ],
   "source": [
    "# Regression 1: Treatment Period Dummy Only (T)\n",
    "model1 = sm.OLS(combined_df['Price'], sm.add_constant(combined_df['D'])).fit()\n",
    "results_summary1 = model1.params\n",
    "print(model1.summary())"
   ]
  },
  {
   "cell_type": "code",
   "execution_count": 21,
   "metadata": {},
   "outputs": [
    {
     "name": "stdout",
     "output_type": "stream",
     "text": [
      "                            OLS Regression Results                            \n",
      "==============================================================================\n",
      "Dep. Variable:                  Price   R-squared:                       0.142\n",
      "Model:                            OLS   Adj. R-squared:                  0.141\n",
      "Method:                 Least Squares   F-statistic:                     6398.\n",
      "Date:                Sat, 03 Feb 2024   Prob (F-statistic):               0.00\n",
      "Time:                        14:41:43   Log-Likelihood:            -2.1193e+05\n",
      "No. Observations:               38819   AIC:                         4.239e+05\n",
      "Df Residuals:                   38817   BIC:                         4.239e+05\n",
      "Df Model:                           1                                         \n",
      "Covariance Type:            nonrobust                                         \n",
      "==============================================================================\n",
      "                 coef    std err          t      P>|t|      [0.025      0.975]\n",
      "------------------------------------------------------------------------------\n",
      "const        120.9897      0.338    358.380      0.000     120.328     121.651\n",
      "T             52.0442      0.651     79.988      0.000      50.769      53.319\n",
      "==============================================================================\n",
      "Omnibus:                     5092.654   Durbin-Watson:                   1.624\n",
      "Prob(Omnibus):                  0.000   Jarque-Bera (JB):             7439.987\n",
      "Skew:                           0.989   Prob(JB):                         0.00\n",
      "Kurtosis:                       3.829   Cond. No.                         2.45\n",
      "==============================================================================\n",
      "\n",
      "Notes:\n",
      "[1] Standard Errors assume that the covariance matrix of the errors is correctly specified.\n"
     ]
    }
   ],
   "source": [
    "# Regression 2: Treatment City Dummy Only (D)\n",
    "model2 = sm.OLS(combined_df['Price'], sm.add_constant(combined_df['T'])).fit()\n",
    "results_summary2 = model2.params\n",
    "print(model2.summary())"
   ]
  },
  {
   "cell_type": "code",
   "execution_count": 22,
   "metadata": {},
   "outputs": [
    {
     "name": "stdout",
     "output_type": "stream",
     "text": [
      "                            OLS Regression Results                            \n",
      "==============================================================================\n",
      "Dep. Variable:                  Price   R-squared:                       0.147\n",
      "Model:                            OLS   Adj. R-squared:                  0.147\n",
      "Method:                 Least Squares   F-statistic:                     2224.\n",
      "Date:                Sat, 03 Feb 2024   Prob (F-statistic):               0.00\n",
      "Time:                        14:41:43   Log-Likelihood:            -2.1182e+05\n",
      "No. Observations:               38819   AIC:                         4.236e+05\n",
      "Df Residuals:                   38815   BIC:                         4.237e+05\n",
      "Df Model:                           3                                         \n",
      "Covariance Type:            nonrobust                                         \n",
      "==============================================================================\n",
      "                 coef    std err          t      P>|t|      [0.025      0.975]\n",
      "------------------------------------------------------------------------------\n",
      "const        125.1589      0.470    266.036      0.000     124.237     126.081\n",
      "D             -8.5413      0.673    -12.684      0.000      -9.861      -7.222\n",
      "T             43.7473      0.871     50.213      0.000      42.040      45.455\n",
      "T*D           18.1835      1.307     13.907      0.000      15.621      20.746\n",
      "==============================================================================\n",
      "Omnibus:                     5118.952   Durbin-Watson:                   1.633\n",
      "Prob(Omnibus):                  0.000   Jarque-Bera (JB):             7506.225\n",
      "Skew:                           0.990   Prob(JB):                         0.00\n",
      "Kurtosis:                       3.850   Cond. No.                         6.23\n",
      "==============================================================================\n",
      "\n",
      "Notes:\n",
      "[1] Standard Errors assume that the covariance matrix of the errors is correctly specified.\n"
     ]
    }
   ],
   "source": [
    "# Regression 3: Both Treatment Period and City Dummy with Interaction (DiD)\n",
    "all = ['D', 'T', 'T*D'] \n",
    "model3 = sm.OLS(combined_df['Price'], sm.add_constant(combined_df[all])).fit()\n",
    "results_summary3 = model3.params\n",
    "print(model3.summary())"
   ]
  },
  {
   "cell_type": "code",
   "execution_count": 23,
   "metadata": {},
   "outputs": [
    {
     "name": "stdout",
     "output_type": "stream",
     "text": [
      "          Model 1     Model 2     Model 3\n",
      "                0           0           0\n",
      "const  137.915114  120.989671  125.158873\n",
      "D       -6.174052         NaN   -8.541339\n",
      "T             NaN   52.044201   43.747267\n",
      "T*D           NaN         NaN   18.183478\n"
     ]
    }
   ],
   "source": [
    "# Convert to DataFrames\n",
    "df1 = pd.DataFrame(results_summary1, index=['const', 'D'])\n",
    "df2 = pd.DataFrame(results_summary2, index=['const', 'T'])\n",
    "df3 = pd.DataFrame(results_summary3, index=['const', 'D', 'T', 'T*D'])\n",
    "\n",
    "# Concatenate the DataFrames side by side\n",
    "combined_results = pd.concat([df1, df2, df3], axis=1, keys=['Model 1', 'Model 2', 'Model 3'])\n",
    "\n",
    "# Display the combined table\n",
    "print(combined_results)"
   ]
  },
  {
   "cell_type": "markdown",
   "metadata": {},
   "source": [
    "**Model 1: Treatment period**\n",
    "\n",
    "$\\beta_0$: The average price when the treatment is not in effect is 1478.32. This serves as the baseline price in periods without the treatment.\n",
    "\n",
    "$\\beta_1$: The coefficient of 749.10 for the treatment period dummy indicates that, during the treatment period, prices were on average 654.99 units higher than in periods without the treatment. This captures the average effect of the treatment over time, but without distinguishing between cities.\n",
    "\n",
    "**Model 2: Treatment city:**\n",
    "\n",
    "$\\beta_0$: The average price in the control city is 1079.69, this could be interpretated as the baseline.\n",
    "\n",
    "$\\beta_2$: The coefficient of 1545.59 for the treatment city dummy suggests that, on average, prices in the treatment city are 1545.59 units higher than in the control city. This captures the average difference in prices between the treatment city and the control city, without accounting for time variation.\n",
    "\n",
    "**Model 3: Both Treatment Period and City Dummy with Interaction (DiD)**\n",
    "\n",
    "$\\beta_0$: The baseline price, which is 1085.59, represents the average price in control cities outside the treatment period.\n",
    "\n",
    "$\\beta_1$: The coefficient -11.80 suggests that, holding city type constant, the treatment period alone does not significantly affect the price or might slightly reduce it, which contrasts with Model 1 because it now controls for city type. We must highlight that this coefficient is not statistically significant. \n",
    "\n",
    "$\\beta_2$: The coefficient 785.06 indicates that, controlling for the period, the treatment city has prices that are on average 785.06 units higher than in control cities. This is a different aspect of the treatment effect, showing the city's baseline difference.\n",
    "\n",
    "$\\alpha$: The interaction term coefficient of 1521.05 is the most crucial part of the DiD analysis. It measures the differential effect of being in the treatment city during the treatment period compared to control cities and periods. This coefficient suggests that the treatment had a positive effect on prices, increasing them by 1318.41 units more than the combined individual effects of being in the treatment period and city.\n",
    "\n",
    "The negative coefficient for D indicates a general decline in the outcome variable during the treatment period, but this does not mean the treatment was ineffective. The positive T*D interaction term in Models 3 and 4 suggests that the treatment had a positive effect when correctly comparing the treatment and control groups over time.\n",
    "The effectiveness of the treatment is gauged by the T*D coefficient, not just the D coefficient. The D coefficient alone cannot tell you about the effectiveness of the treatment; it only indicates the overall trend during the treatment period across both groups.\n",
    "\n",
    "**Overall**\n",
    "\n",
    " The results suggest that, while the treatment period and being in the treatment city individually have discernible effects on prices, the combined effect of being in the treatment city during the treatment period (captured by the interaction term in Model 3) is substantial and positive. This is indicative of the treatment's effectiveness. The negative coefficient for $D$ in Model 3, in contrast to its positive coefficient in Model 1, suggests that once you account for the difference between cities, the treatment period's standalone effect might be negative or negligible (which is the case since the coefficient is not statitically significant). This emphasizes the importance of the interaction term in capturing the true effect of the treatment. It's important to note that $\\alpha$ (the coefficient for the interaction term $T*D$) is what truly captures the DiD estimate, indicating the incremental effect of the treatment over and above the individual effects of being in the treatment city or period.\n"
   ]
  },
  {
   "cell_type": "markdown",
   "metadata": {},
   "source": [
    "# Part 3: Description NLP"
   ]
  },
  {
   "cell_type": "markdown",
   "metadata": {},
   "source": [
    "Basic EDA of the prices contained in the dataset"
   ]
  },
  {
   "cell_type": "code",
   "execution_count": 24,
   "metadata": {},
   "outputs": [
    {
     "data": {
      "image/png": "[encoded data removed]",
      "text/plain": [
       "<Figure size 1200x800 with 4 Axes>"
      ]
     },
     "metadata": {},
     "output_type": "display_data"
    }
   ],
   "source": [
    "# Histogram of prices for each unique City in a grid\n",
    "grid = sns.FacetGrid(df1_common, col='City', col_wrap=3, height=4, sharey=False)\n",
    "grid.map(sns.histplot, 'Price', kde=False, bins=20)\n",
    "grid.set_titles('Histogram - {col_name}')\n",
    "grid.set_axis_labels('Price', 'Frequency')\n",
    "plt.show()\n",
    "\n"
   ]
  },
  {
   "cell_type": "code",
   "execution_count": 25,
   "metadata": {},
   "outputs": [
    {
     "name": "stdout",
     "output_type": "stream",
     "text": [
      "Line Event from:  2024-02-23  to:  2024-03-03\n",
      "Line no-Event from:  2024-03-08  to:  2024-03-17\n"
     ]
    },
    {
     "data": {
      "image/png": "[encoded data removed]",
      "text/plain": [
       "<Figure size 640x480 with 1 Axes>"
      ]
     },
     "metadata": {},
     "output_type": "display_data"
    }
   ],
   "source": [
    "df1 = df1_common[df1_common['City']=='Barcelona'].copy()\n",
    "df2 = df2_common[df2_common['City']=='Barcelona'].copy()\n",
    "print(\"Line Event from: \",df1['Start_Date'].min(), \" to: \", df1['End_Date'].max())\n",
    "print(\"Line no-Event from: \",df2['Start_Date'].min(), \" to: \", df2['End_Date'].max())\n",
    "\n",
    "# Assuming 'Start_Date' is in string format, convert it to datetime\n",
    "df1['Start_Date'] = pd.to_datetime(df1['Start_Date'])\n",
    "df2['Start_Date'] = pd.to_datetime(df2['Start_Date'])\n",
    "\n",
    "# Calculate the number of nights for each dataset\n",
    "df1['Nights'] = (df1['Start_Date'] - df1['Start_Date'].min()).dt.days + 1\n",
    "df2['Nights'] = (df2['Start_Date'] - df2['Start_Date'].min()).dt.days + 1\n",
    "\n",
    "# Continue with the rest of your code\n",
    "avg_price1 = df1.groupby('Nights')['Price'].mean()\n",
    "avg_price2 = df2.groupby('Nights')['Price'].mean()\n",
    "\n",
    "# Create the plot\n",
    "plt.plot(avg_price1.index, avg_price1, label='Event Period', marker='o')\n",
    "plt.plot(avg_price2.index, avg_price2, label='No Event', marker='o')\n",
    "\n",
    "# Add labels and legend\n",
    "plt.xlabel('Number of Nights')\n",
    "plt.ylabel('Average Price')\n",
    "plt.legend()\n",
    "\n",
    "# Show the plot\n",
    "plt.show()"
   ]
  },
  {
   "cell_type": "markdown",
   "metadata": {},
   "source": [
    "TODO: Explain graph"
   ]
  },
  {
   "cell_type": "code",
   "execution_count": 26,
   "metadata": {},
   "outputs": [
    {
     "name": "stdout",
     "output_type": "stream",
     "text": [
      "Common hotels:  970 ,  853\n"
     ]
    }
   ],
   "source": [
    "def get_size_of_common_hotel_per_night(df1, df2):\n",
    "    # Group the dataframes by 'Start_Date' and count the number of common hotels for each date\n",
    "    grouped_df1 = df1.groupby('Start_Date')['Hotel_Name'].apply(set)\n",
    "    grouped_df2 = df2.groupby('Start_Date')['Hotel_Name'].apply(set)\n",
    "\n",
    "    # Find the intersection of hotel names across all dates\n",
    "    common_hotels1 = set.intersection(*grouped_df1)\n",
    "    common_hotels2 = set.intersection(*grouped_df2)\n",
    "\n",
    "    # Filter the original dataframe to keep only the common hotels\n",
    "    result_df1 = df1[df1['Hotel_Name'].isin(common_hotels1)]\n",
    "    result_df2 = df2[df2['Hotel_Name'].isin(common_hotels2)]\n",
    "    print(\"Common hotels: \", len(common_hotels1),\", \", len(common_hotels2))\n",
    "    return result_df1, result_df2\n",
    "\n",
    "df1_c, df2_c = get_size_of_common_hotel_per_night(df1_common, df2_common)\n"
   ]
  },
  {
   "cell_type": "code",
   "execution_count": 27,
   "metadata": {},
   "outputs": [
    {
     "data": {
      "text/html": [
       "<div>\n",
       "<style scoped>\n",
       "    .dataframe tbody tr th:only-of-type {\n",
       "        vertical-align: middle;\n",
       "    }\n",
       "\n",
       "    .dataframe tbody tr th {\n",
       "        vertical-align: top;\n",
       "    }\n",
       "\n",
       "    .dataframe thead th {\n",
       "        text-align: right;\n",
       "    }\n",
       "</style>\n",
       "<table border=\"1\" class=\"dataframe\">\n",
       "  <thead>\n",
       "    <tr style=\"text-align: right;\">\n",
       "      <th></th>\n",
       "      <th>Start_Date</th>\n",
       "      <th>Price</th>\n",
       "      <th>Rating</th>\n",
       "    </tr>\n",
       "  </thead>\n",
       "  <tbody>\n",
       "    <tr>\n",
       "      <th>0</th>\n",
       "      <td>2024-02-23</td>\n",
       "      <td>137.190043</td>\n",
       "      <td>8.190867</td>\n",
       "    </tr>\n",
       "    <tr>\n",
       "      <th>1</th>\n",
       "      <td>2024-02-24</td>\n",
       "      <td>137.111908</td>\n",
       "      <td>8.190405</td>\n",
       "    </tr>\n",
       "    <tr>\n",
       "      <th>2</th>\n",
       "      <td>2024-02-25</td>\n",
       "      <td>121.107644</td>\n",
       "      <td>8.151336</td>\n",
       "    </tr>\n",
       "    <tr>\n",
       "      <th>3</th>\n",
       "      <td>2024-02-26</td>\n",
       "      <td>120.886056</td>\n",
       "      <td>8.152587</td>\n",
       "    </tr>\n",
       "    <tr>\n",
       "      <th>4</th>\n",
       "      <td>2024-02-27</td>\n",
       "      <td>122.120736</td>\n",
       "      <td>8.133094</td>\n",
       "    </tr>\n",
       "    <tr>\n",
       "      <th>5</th>\n",
       "      <td>2024-02-28</td>\n",
       "      <td>121.950108</td>\n",
       "      <td>8.133533</td>\n",
       "    </tr>\n",
       "    <tr>\n",
       "      <th>6</th>\n",
       "      <td>2024-02-29</td>\n",
       "      <td>136.707830</td>\n",
       "      <td>8.207336</td>\n",
       "    </tr>\n",
       "    <tr>\n",
       "      <th>7</th>\n",
       "      <td>2024-03-01</td>\n",
       "      <td>136.677723</td>\n",
       "      <td>8.206283</td>\n",
       "    </tr>\n",
       "    <tr>\n",
       "      <th>8</th>\n",
       "      <td>2024-03-02</td>\n",
       "      <td>146.891538</td>\n",
       "      <td>8.156352</td>\n",
       "    </tr>\n",
       "  </tbody>\n",
       "</table>\n",
       "</div>"
      ],
      "text/plain": [
       "   Start_Date       Price    Rating\n",
       "0  2024-02-23  137.190043  8.190867\n",
       "1  2024-02-24  137.111908  8.190405\n",
       "2  2024-02-25  121.107644  8.151336\n",
       "3  2024-02-26  120.886056  8.152587\n",
       "4  2024-02-27  122.120736  8.133094\n",
       "5  2024-02-28  121.950108  8.133533\n",
       "6  2024-02-29  136.707830  8.207336\n",
       "7  2024-03-01  136.677723  8.206283\n",
       "8  2024-03-02  146.891538  8.156352"
      ]
     },
     "execution_count": 27,
     "metadata": {},
     "output_type": "execute_result"
    }
   ],
   "source": [
    "# Prices in the event week\n",
    "df1_group = df1_common.groupby('Start_Date').agg({'Price': 'mean', 'Rating': 'mean'}).reset_index()\n",
    "df1_group"
   ]
  },
  {
   "cell_type": "code",
   "execution_count": 28,
   "metadata": {},
   "outputs": [
    {
     "data": {
      "text/html": [
       "<div>\n",
       "<style scoped>\n",
       "    .dataframe tbody tr th:only-of-type {\n",
       "        vertical-align: middle;\n",
       "    }\n",
       "\n",
       "    .dataframe tbody tr th {\n",
       "        vertical-align: top;\n",
       "    }\n",
       "\n",
       "    .dataframe thead th {\n",
       "        text-align: right;\n",
       "    }\n",
       "</style>\n",
       "<table border=\"1\" class=\"dataframe\">\n",
       "  <thead>\n",
       "    <tr style=\"text-align: right;\">\n",
       "      <th></th>\n",
       "      <th>Start_Date</th>\n",
       "      <th>Price</th>\n",
       "      <th>Rating</th>\n",
       "    </tr>\n",
       "  </thead>\n",
       "  <tbody>\n",
       "    <tr>\n",
       "      <th>0</th>\n",
       "      <td>2024-03-08</td>\n",
       "      <td>149.461217</td>\n",
       "      <td>8.159606</td>\n",
       "    </tr>\n",
       "    <tr>\n",
       "      <th>1</th>\n",
       "      <td>2024-03-09</td>\n",
       "      <td>146.622273</td>\n",
       "      <td>8.190559</td>\n",
       "    </tr>\n",
       "    <tr>\n",
       "      <th>2</th>\n",
       "      <td>2024-03-10</td>\n",
       "      <td>131.702941</td>\n",
       "      <td>8.194465</td>\n",
       "    </tr>\n",
       "    <tr>\n",
       "      <th>3</th>\n",
       "      <td>2024-03-11</td>\n",
       "      <td>131.537783</td>\n",
       "      <td>8.194968</td>\n",
       "    </tr>\n",
       "    <tr>\n",
       "      <th>4</th>\n",
       "      <td>2024-03-12</td>\n",
       "      <td>134.407423</td>\n",
       "      <td>8.215160</td>\n",
       "    </tr>\n",
       "    <tr>\n",
       "      <th>5</th>\n",
       "      <td>2024-03-13</td>\n",
       "      <td>134.178750</td>\n",
       "      <td>8.209442</td>\n",
       "    </tr>\n",
       "    <tr>\n",
       "      <th>6</th>\n",
       "      <td>2024-03-14</td>\n",
       "      <td>135.135399</td>\n",
       "      <td>8.200137</td>\n",
       "    </tr>\n",
       "    <tr>\n",
       "      <th>7</th>\n",
       "      <td>2024-03-15</td>\n",
       "      <td>135.284805</td>\n",
       "      <td>8.204292</td>\n",
       "    </tr>\n",
       "    <tr>\n",
       "      <th>8</th>\n",
       "      <td>2024-03-16</td>\n",
       "      <td>146.503470</td>\n",
       "      <td>8.166371</td>\n",
       "    </tr>\n",
       "  </tbody>\n",
       "</table>\n",
       "</div>"
      ],
      "text/plain": [
       "   Start_Date       Price    Rating\n",
       "0  2024-03-08  149.461217  8.159606\n",
       "1  2024-03-09  146.622273  8.190559\n",
       "2  2024-03-10  131.702941  8.194465\n",
       "3  2024-03-11  131.537783  8.194968\n",
       "4  2024-03-12  134.407423  8.215160\n",
       "5  2024-03-13  134.178750  8.209442\n",
       "6  2024-03-14  135.135399  8.200137\n",
       "7  2024-03-15  135.284805  8.204292\n",
       "8  2024-03-16  146.503470  8.166371"
      ]
     },
     "execution_count": 28,
     "metadata": {},
     "output_type": "execute_result"
    }
   ],
   "source": [
    "# Prices in the non-event week\n",
    "df2_group = df2_common.groupby('Start_Date').agg({'Price': 'mean', 'Rating': 'mean'}).reset_index()\n",
    "df2_group"
   ]
  },
  {
   "cell_type": "markdown",
   "metadata": {},
   "source": [
    "Tokenize the descriptions: use the Description_Analysis() to tokenize and preprocess the hotel descriptions. The results of this process won't be used, hence only a sample of the descriptions are being preprocess to reduce running time. "
   ]
  },
  {
   "cell_type": "code",
   "execution_count": 29,
   "metadata": {},
   "outputs": [
    {
     "name": "stderr",
     "output_type": "stream",
     "text": [
      " 48%|████▊     | 886/1831 [00:01<00:01, 578.80it/s]"
     ]
    },
    {
     "name": "stderr",
     "output_type": "stream",
     "text": [
      "100%|██████████| 1831/1831 [00:03<00:00, 573.85it/s]\n"
     ]
    }
   ],
   "source": [
    "tqdm.pandas()\n",
    "\n",
    "df_copy_token = df1_common.copy()\n",
    "# Keep only sample of the dataset\n",
    "df_copy_token = df_copy_token.sample(frac=0.1, random_state=1)\n",
    "df_copy_token = df_copy_token.dropna(subset=['Hotel_Description_Long'])\n",
    "\n",
    "# Tokenize the descriptions\n",
    "des_analysis = da.Description_Analysis()\n",
    "text_preprocessing = (\n",
    "    df_copy_token['Hotel_Description_Long']\n",
    "    .dropna()\n",
    "    .astype(str)\n",
    "    .progress_apply(lambda x: des_analysis.tokenize(x,1))\n",
    ")\n",
    "\n",
    "df_copy_token['Tokenized_Description'] = text_preprocessing\n",
    "\n",
    "# Create a list of unique tokens\n",
    "vocab, token_count = {}, 1\n",
    "for doc in df_copy_token['Tokenized_Description']:\n",
    "    tokens = doc.split()\n",
    "    for token in tokens:\n",
    "        if token not in vocab:\n",
    "            vocab[token] = token_count\n",
    "            token_count += 1\n",
    "\n",
    "# Create a DataFrame\n",
    "vec = []\n",
    "for doc in df_copy_token['Tokenized_Description']:\n",
    "    vec.append(des_analysis.vectorize(doc, vocab))\n",
    "df_tokens1 = pd.DataFrame(vec)\n",
    "df_tokens1.columns = vocab.keys()\n",
    "print(df_tokens1.shape)\n",
    "df_tokens1.head()"
   ]
  },
  {
   "cell_type": "markdown",
   "metadata": {},
   "source": [
    "Use Description_Analysis.py to find the words having the highest coefficients and R-squared  in OLS regression for 1-ngram (max_features=5000):"
   ]
  },
  {
   "cell_type": "code",
   "execution_count": null,
   "metadata": {},
   "outputs": [
    {
     "name": "stdout",
     "output_type": "stream",
     "text": [
      "Number of common words: 5000\n",
      "Top 1 word based on coefficient: m² (110.05031730946585)\n",
      "Top 2 word based on coefficient: mat (102.04639309584141)\n",
      "Top 3 word based on coefficient: clients (100.17159418512288)\n",
      "Top 1 word based on R-squared: barcelona (0.11251706454429877)\n",
      "Top 2 word based on R-squared: sá (0.07326506635173369)\n",
      "Top 3 word based on R-squared: carneiro (0.07224481474192201)\n",
      "\n"
     ]
    }
   ],
   "source": [
    "des_analysis = da.Description_Analysis()\n",
    "best_coefs, summary = des_analysis.get_best_coefficients(df1_common, TFidf=False, n_gram_min = 1, n_gram_max = 1)"
   ]
  },
  {
   "cell_type": "code",
   "execution_count": null,
   "metadata": {},
   "outputs": [
    {
     "name": "stdout",
     "output_type": "stream",
     "text": [
      "Number of common words: 5000\n",
      "Top 1 word based on coefficient: off barcelona (74.39977012390102)\n",
      "Top 2 word based on coefficient: catalan german (72.22357024258575)\n",
      "Top 3 word based on coefficient: have simple (69.51677674018285)\n",
      "Top 1 word based on R-squared: sá carneiro (0.07392708235071299)\n",
      "Top 2 word based on R-squared: francisco sá (0.07219765607693007)\n",
      "Top 3 word based on R-squared: is francisco (0.06069188981919793)\n",
      "\n"
     ]
    }
   ],
   "source": [
    "best_coefs, summary = des_analysis.get_best_coefficients(df1_common, TFidf=False, n_gram_min = 2, n_gram_max = 2)"
   ]
  },
  {
   "cell_type": "markdown",
   "metadata": {},
   "source": [
    "### OLS regression on selected features:\n",
    "\n",
    "Utilize the `get_selected_features()` method from Description_Analysis.py to obtain summary statistics of an OLS regression using the specified features as controls. If any of the selected features are not present in the corpus, an error message will be displayed. The function parameters include:\n",
    "- df: DataFrame, the dataset containing the descriptions.\n",
    "- selected_features: a list containing strings, with a maximum 3 different 3-grams.\n",
    "- (optional) TfiDf = True: Use TFiDF for vectorization; otherwise, CountVectorize will be employed."
   ]
  },
  {
   "cell_type": "code",
   "execution_count": null,
   "metadata": {},
   "outputs": [
    {
     "name": "stdout",
     "output_type": "stream",
     "text": [
      "                            OLS Regression Results                            \n",
      "==============================================================================\n",
      "Dep. Variable:                  Price   R-squared:                       0.021\n",
      "Model:                            OLS   Adj. R-squared:                  0.021\n",
      "Method:                 Least Squares   F-statistic:                     175.7\n",
      "Date:                Sat, 03 Feb 2024   Prob (F-statistic):           3.34e-76\n",
      "Time:                        14:32:44   Log-Likelihood:                -90794.\n",
      "No. Observations:               16317   AIC:                         1.816e+05\n",
      "Df Residuals:                   16314   BIC:                         1.816e+05\n",
      "Df Model:                           2                                         \n",
      "Covariance Type:            nonrobust                                         \n",
      "==============================================================================\n",
      "                 coef    std err          t      P>|t|      [0.025      0.975]\n",
      "------------------------------------------------------------------------------\n",
      "const        140.0663      0.931    150.523      0.000     138.242     141.890\n",
      "wifi         -15.3473      1.007    -15.247      0.000     -17.320     -13.374\n",
      "pool          10.9347      1.065     10.265      0.000       8.847      13.023\n",
      "==============================================================================\n",
      "Omnibus:                     2307.391   Durbin-Watson:                   1.331\n",
      "Prob(Omnibus):                  0.000   Jarque-Bera (JB):             3442.095\n",
      "Skew:                           1.045   Prob(JB):                         0.00\n",
      "Kurtosis:                       3.835   Cond. No.                         3.50\n",
      "==============================================================================\n",
      "\n",
      "Notes:\n",
      "[1] Standard Errors assume that the covariance matrix of the errors is correctly specified.\n"
     ]
    }
   ],
   "source": [
    "# SELECTED Features (1-gram)\n",
    "selected_features = ['Wifi','Pool']\n",
    "model_selected, matrix = des_analysis.get_selected_features(df1_common, selected_features)\n",
    "print(model_selected.summary())"
   ]
  },
  {
   "cell_type": "code",
   "execution_count": null,
   "metadata": {},
   "outputs": [
    {
     "name": "stdout",
     "output_type": "stream",
     "text": [
      "                            OLS Regression Results                            \n",
      "==============================================================================\n",
      "Dep. Variable:                  Price   R-squared:                       0.019\n",
      "Model:                            OLS   Adj. R-squared:                  0.019\n",
      "Method:                 Least Squares   F-statistic:                     321.4\n",
      "Date:                Sat, 03 Feb 2024   Prob (F-statistic):           3.50e-71\n",
      "Time:                        14:33:01   Log-Likelihood:                -90808.\n",
      "No. Observations:               16317   AIC:                         1.816e+05\n",
      "Df Residuals:                   16315   BIC:                         1.816e+05\n",
      "Df Model:                           1                                         \n",
      "Covariance Type:            nonrobust                                         \n",
      "==============================================================================\n",
      "                 coef    std err          t      P>|t|      [0.025      0.975]\n",
      "------------------------------------------------------------------------------\n",
      "const        144.0297      0.920    156.581      0.000     142.227     145.833\n",
      "free wifi    -19.4214      1.083    -17.927      0.000     -21.545     -17.298\n",
      "==============================================================================\n",
      "Omnibus:                     2305.763   Durbin-Watson:                   1.329\n",
      "Prob(Omnibus):                  0.000   Jarque-Bera (JB):             3437.962\n",
      "Skew:                           1.045   Prob(JB):                         0.00\n",
      "Kurtosis:                       3.832   Cond. No.                         3.48\n",
      "==============================================================================\n",
      "\n",
      "Notes:\n",
      "[1] Standard Errors assume that the covariance matrix of the errors is correctly specified.\n"
     ]
    }
   ],
   "source": [
    "# Selected Features (2-gram)\n",
    "selected_features_2 = ['Free Wifi','Friendly staff']\n",
    "model_selected_2, matrix_2 = des_analysis.get_selected_features(df1_common, selected_features_2)\n",
    "print(model_selected_2.summary())"
   ]
  },
  {
   "cell_type": "markdown",
   "metadata": {},
   "source": [
    "This method from Description_Analysis return a SentimentIntensityAnalyzer which is part of the Natural Language Toolkit (NLTK) library and is commonly used to analyze the sentiment of a piece of text. It provides a compound score that represents the overall sentiment of the text, ranging from -1 (most negative) to 1 (most positive).\n",
    "\n",
    "The results are printed for each city."
   ]
  },
  {
   "cell_type": "code",
   "execution_count": null,
   "metadata": {},
   "outputs": [
    {
     "name": "stderr",
     "output_type": "stream",
     "text": [
      "c:\\Users\\School\\Documents\\DSDM_2023-2024\\Period_2\\I_NLP\\Assignment_1\\Booking-Scraping\\src\\description_analysis.py:264: FutureWarning: The default dtype for empty Series will be 'object' instead of 'float64' in a future version. Specify a dtype explicitly to silence this warning.\n",
      "  sentiments = pd.Series(index=copy_df1.index)\n"
     ]
    },
    {
     "name": "stdout",
     "output_type": "stream",
     "text": [
      "        City Sentiment          \n",
      "                  mean       std\n",
      "0  Barcelona  0.821999  0.184146\n",
      "1  Marseille  0.762452  0.210307\n",
      "2      Porto  0.811630  0.181484\n",
      "3   Valencia  0.746578  0.214103\n",
      "None\n"
     ]
    }
   ],
   "source": [
    "# Get sentiment alalysis\n",
    "sentiment = des_analysis.get_sentiment(df1_common,df2_common)\n",
    "print(sentiment)"
   ]
  },
  {
   "cell_type": "markdown",
   "metadata": {},
   "source": [
    "### 4th Regression:"
   ]
  },
  {
   "cell_type": "code",
   "execution_count": null,
   "metadata": {},
   "outputs": [
    {
     "name": "stdout",
     "output_type": "stream",
     "text": [
      "(38819, 5012)\n"
     ]
    }
   ],
   "source": [
    "# merge combined_df with result of matrix \n",
    "combined_df = pd.concat([combined_df, matrix], axis=1)\n",
    "print(combined_df.shape)"
   ]
  },
  {
   "cell_type": "code",
   "execution_count": null,
   "metadata": {},
   "outputs": [
    {
     "name": "stdout",
     "output_type": "stream",
     "text": [
      "                            OLS Regression Results                            \n",
      "==============================================================================\n",
      "Dep. Variable:                  Price   R-squared:                       0.149\n",
      "Model:                            OLS   Adj. R-squared:                  0.149\n",
      "Method:                 Least Squares   F-statistic:                     1356.\n",
      "Date:                Sat, 03 Feb 2024   Prob (F-statistic):               0.00\n",
      "Time:                        14:39:10   Log-Likelihood:            -2.1177e+05\n",
      "No. Observations:               38819   AIC:                         4.236e+05\n",
      "Df Residuals:                   38813   BIC:                         4.236e+05\n",
      "Df Model:                           5                                         \n",
      "Covariance Type:            nonrobust                                         \n",
      "==============================================================================\n",
      "                 coef    std err          t      P>|t|      [0.025      0.975]\n",
      "------------------------------------------------------------------------------\n",
      "const        125.1589      0.470    266.348      0.000     124.238     126.080\n",
      "D            -12.3168      1.002    -12.289      0.000     -14.281     -10.352\n",
      "T             43.7473      0.870     50.272      0.000      42.042      45.453\n",
      "T*D           17.7307      1.346     13.176      0.000      15.093      20.368\n",
      "wifi           3.4645      0.885      3.916      0.000       1.730       5.199\n",
      "pool           8.0367      0.914      8.791      0.000       6.245       9.828\n",
      "==============================================================================\n",
      "Omnibus:                     5089.331   Durbin-Watson:                   1.634\n",
      "Prob(Omnibus):                  0.000   Jarque-Bera (JB):             7445.816\n",
      "Skew:                           0.986   Prob(JB):                         0.00\n",
      "Kurtosis:                       3.844   Cond. No.                         7.20\n",
      "==============================================================================\n",
      "\n",
      "Notes:\n",
      "[1] Standard Errors assume that the covariance matrix of the errors is correctly specified.\n"
     ]
    }
   ],
   "source": [
    "# Regression 4: All features\n",
    "all = ['D', 'T', 'T*D'] + model_selected.params.index.tolist()\n",
    "all.remove('const')\n",
    "combined_df = combined_df.fillna(0)\n",
    "model4 = sm.OLS(combined_df['Price'], sm.add_constant(combined_df[all])).fit()\n",
    "results_summary4 = model4.params\n",
    "print(model4.summary())"
   ]
  },
  {
   "cell_type": "code",
   "execution_count": null,
   "metadata": {},
   "outputs": [
    {
     "name": "stdout",
     "output_type": "stream",
     "text": [
      "          Model 1     Model 2     Model 3     Model 4\n",
      "                0           0           0           0\n",
      "const  137.915114  120.989671  125.158873  125.158873\n",
      "D       -6.174052         NaN   -8.541339  -12.316844\n",
      "T             NaN   52.044201   43.747267   43.747267\n",
      "T*D           NaN         NaN   18.183478   17.730666\n",
      "wifi          NaN         NaN         NaN    3.464463\n",
      "pool          NaN         NaN         NaN    8.036726\n"
     ]
    }
   ],
   "source": [
    "# Convert to DataFrames\n",
    "df1 = pd.DataFrame(results_summary1, index=['const', 'D'])\n",
    "df2 = pd.DataFrame(results_summary2, index=['const', 'T'])\n",
    "df3 = pd.DataFrame(results_summary3, index=['const', 'D', 'T', 'T*D'])\n",
    "df4 = pd.DataFrame(model4.params)\n",
    "\n",
    "# Concatenate the DataFrames side by side\n",
    "combined_results = pd.concat([df1, df2, df3, df4], axis=1, keys=['Model 1', 'Model 2', 'Model 3', 'Model 4'])\n",
    "\n",
    "# Display the combined table\n",
    "print(combined_results)"
   ]
  },
  {
   "cell_type": "markdown",
   "metadata": {},
   "source": []
  }
 ],
 "metadata": {
  "kernelspec": {
   "display_name": "base",
   "language": "python",
   "name": "python3"
  },
  "language_info": {
   "codemirror_mode": {
    "name": "ipython",
    "version": 3
   },
   "file_extension": ".py",
   "mimetype": "text/x-python",
   "name": "python",
   "nbconvert_exporter": "python",
   "pygments_lexer": "ipython3",
   "version": "3.11.4"
  }
 },
 "nbformat": 4,
 "nbformat_minor": 2
}
